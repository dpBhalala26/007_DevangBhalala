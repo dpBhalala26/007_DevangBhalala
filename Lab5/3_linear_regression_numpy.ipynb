{
  "nbformat": 4,
  "nbformat_minor": 0,
  "metadata": {
    "colab": {
      "name": "3-linear-regression-numpy.ipynb",
      "provenance": [],
      "collapsed_sections": []
    },
    "kernelspec": {
      "name": "python3",
      "display_name": "Python 3"
    },
    "language_info": {
      "name": "python"
    }
  },
  "cells": [
    {
      "cell_type": "markdown",
      "metadata": {
        "id": "1wipT_qsWwdz"
      },
      "source": [
        "#Exercise 1:\n",
        " Try Linear Regression just using numpy (Without Tensorflow/Pytorch or other torch library). You can optionally use sklearn (if you want)"
      ]
    },
    {
      "cell_type": "code",
      "metadata": {
        "id": "cIMGPmdxW6vY"
      },
      "source": [
        "# Import Numpy\n",
        "import numpy as np"
      ],
      "execution_count": 1,
      "outputs": []
    },
    {
      "cell_type": "markdown",
      "metadata": {
        "id": "7Fas0TqdXkvq"
      },
      "source": [
        "## Linear Regression Model using numpy\n",
        "\n",
        "Re-implementing the same model using numpy using two different targets: Apples and Oranges"
      ]
    },
    {
      "cell_type": "code",
      "metadata": {
        "id": "RD2yLhZSX8FZ"
      },
      "source": [
        "# Input (temp, rainfall, humidity)\n",
        "inputs = np.array([[73, 67, 43], [91, 88, 64], [87, 134, 58], [102, 43, 37], [69, 96, 70], [73, 67, 43], [91, 88, 64], [87, 134, 58], [102, 43, 37], [69, 96, 70], [73, 67, 43], [91, 88, 64], [87, 134, 58], [102, 43, 37], [69, 96, 70]], dtype='float32')\n",
        "# Targets (apples, oranges)\n",
        "targets = np.array([[56, 70], [81, 101], [119, 133], [22, 37], [103, 119], \n",
        "                    [56, 70], [81, 101], [119, 133], [22, 37], [103, 119], \n",
        "                    [56, 70], [81, 101], [119, 133], [22, 37], [103, 119]], dtype='float32')"
      ],
      "execution_count": 2,
      "outputs": []
    },
    {
      "cell_type": "code",
      "metadata": {
        "colab": {
          "base_uri": "https://localhost:8080/"
        },
        "id": "IzV-h6W5YES5",
        "outputId": "d43b0ee7-0915-4fc7-a8d9-0fe8dbb3fe8f"
      },
      "source": [
        "# getting x-shape\n",
        "\n",
        "x_shape = inputs.shape\n",
        "print(x_shape)"
      ],
      "execution_count": 3,
      "outputs": [
        {
          "output_type": "stream",
          "name": "stdout",
          "text": [
            "(15, 3)\n"
          ]
        }
      ]
    },
    {
      "cell_type": "markdown",
      "metadata": {
        "id": "foTkTwNpYkpg"
      },
      "source": [
        "Getting Random Weights and biases"
      ]
    },
    {
      "cell_type": "code",
      "metadata": {
        "colab": {
          "base_uri": "https://localhost:8080/"
        },
        "id": "H_KHXhyiYnzh",
        "outputId": "cec017fc-b42d-406a-fbc1-3449ab7c5245"
      },
      "source": [
        "weights = np.random.rand(2,3)\n",
        "weights"
      ],
      "execution_count": 4,
      "outputs": [
        {
          "output_type": "execute_result",
          "data": {
            "text/plain": [
              "array([[0.07786256, 0.23675037, 0.69496506],\n",
              "       [0.09820338, 0.12884643, 0.2574114 ]])"
            ]
          },
          "metadata": {},
          "execution_count": 4
        }
      ]
    },
    {
      "cell_type": "code",
      "metadata": {
        "colab": {
          "base_uri": "https://localhost:8080/"
        },
        "id": "6LuFDO99YsBp",
        "outputId": "9127a74a-3a9f-438a-de80-660ff52ba05b"
      },
      "source": [
        "biases = np.random.rand(15,2)\n",
        "biases"
      ],
      "execution_count": 5,
      "outputs": [
        {
          "output_type": "execute_result",
          "data": {
            "text/plain": [
              "array([[0.98152025, 0.98618066],\n",
              "       [0.13191345, 0.54870707],\n",
              "       [0.58503032, 0.67053756],\n",
              "       [0.7723728 , 0.23522464],\n",
              "       [0.03804859, 0.74355128],\n",
              "       [0.33866407, 0.14390927],\n",
              "       [0.35385489, 0.79666648],\n",
              "       [0.69630766, 0.17416131],\n",
              "       [0.19488942, 0.24786164],\n",
              "       [0.30939193, 0.99897466],\n",
              "       [0.84039179, 0.83324891],\n",
              "       [0.30302146, 0.00508709],\n",
              "       [0.43419817, 0.3732702 ],\n",
              "       [0.80558856, 0.49447149],\n",
              "       [0.7601755 , 0.80422864]])"
            ]
          },
          "metadata": {},
          "execution_count": 5
        }
      ]
    },
    {
      "cell_type": "markdown",
      "metadata": {
        "id": "0960w-HLY_iZ"
      },
      "source": [
        "Linear Regression Model"
      ]
    },
    {
      "cell_type": "code",
      "metadata": {
        "id": "aOuf2Y60ZCNP"
      },
      "source": [
        "# Define the model\n",
        "\n",
        "def model(x):\n",
        "    return x @ np.transpose(weights) + biases"
      ],
      "execution_count": 6,
      "outputs": []
    },
    {
      "cell_type": "code",
      "metadata": {
        "colab": {
          "base_uri": "https://localhost:8080/"
        },
        "id": "HvIg6CsZZhgf",
        "outputId": "0806fd4c-0a42-4614-8268-00c04fa4b769"
      },
      "source": [
        "# Generate predictions\n",
        "\n",
        "preds = model(inputs)\n",
        "print(preds)"
      ],
      "execution_count": 7,
      "outputs": [
        {
          "output_type": "stream",
          "name": "stdout",
          "text": [
            "[[52.41125882 27.85642807]\n",
            " [72.5292019  37.29802963]\n",
            " [79.39159511 41.40951408]\n",
            " [44.60832631 25.31658724]\n",
            " [76.7861541  37.90763939]\n",
            " [51.76840264 27.01415668]\n",
            " [72.75114335 37.54598904]\n",
            " [79.50287245 40.91313783]\n",
            " [44.03084294 25.32922425]\n",
            " [77.05749744 38.16306276]\n",
            " [52.27013035 27.70349632]\n",
            " [72.70030992 36.75440965]\n",
            " [79.24076296 41.11224672]\n",
            " [44.64154208 25.5758341 ]\n",
            " [77.50828102 37.96831675]]\n"
          ]
        }
      ]
    },
    {
      "cell_type": "code",
      "metadata": {
        "colab": {
          "base_uri": "https://localhost:8080/"
        },
        "id": "Vznh_GFOZmqX",
        "outputId": "bd7ace7c-254c-47e0-a85a-24674f8e90d8"
      },
      "source": [
        "# Compare with targets\n",
        "\n",
        "print(targets)"
      ],
      "execution_count": 8,
      "outputs": [
        {
          "output_type": "stream",
          "name": "stdout",
          "text": [
            "[[ 56.  70.]\n",
            " [ 81. 101.]\n",
            " [119. 133.]\n",
            " [ 22.  37.]\n",
            " [103. 119.]\n",
            " [ 56.  70.]\n",
            " [ 81. 101.]\n",
            " [119. 133.]\n",
            " [ 22.  37.]\n",
            " [103. 119.]\n",
            " [ 56.  70.]\n",
            " [ 81. 101.]\n",
            " [119. 133.]\n",
            " [ 22.  37.]\n",
            " [103. 119.]]\n"
          ]
        }
      ]
    },
    {
      "cell_type": "markdown",
      "metadata": {
        "id": "LvT2J7jiZtko"
      },
      "source": [
        "# Loss Function\n",
        "\n",
        "We can compare the predictions with the actual targets, using the following method: \n",
        "* Calculate the difference between the two matrices (`preds` and `targets`).\n",
        "* Square all elements of the difference matrix to remove negative values.\n",
        "* Calculate the average of the elements in the resulting matrix.\n",
        "\n",
        "The result is a single number, known as the **mean squared error** (MSE)."
      ]
    },
    {
      "cell_type": "code",
      "metadata": {
        "id": "Ti46kubEZ3VG"
      },
      "source": [
        "# MSE loss\n",
        "\n",
        "def mse(t1, t2):\n",
        "    diff = t1 - t2\n",
        "    return np.sum(diff * diff) / len(diff)"
      ],
      "execution_count": 9,
      "outputs": []
    },
    {
      "cell_type": "code",
      "metadata": {
        "colab": {
          "base_uri": "https://localhost:8080/"
        },
        "id": "ORry5N4DZ-bQ",
        "outputId": "ac8a556b-fa4b-4015-f86e-94656f7e989a"
      },
      "source": [
        "# Compute loss\n",
        "\n",
        "loss = mse(preds, targets)\n",
        "print(loss)"
      ],
      "execution_count": 10,
      "outputs": [
        {
          "output_type": "stream",
          "name": "stdout",
          "text": [
            "4766.598342557376\n"
          ]
        }
      ]
    },
    {
      "cell_type": "markdown",
      "metadata": {
        "id": "wq2P8HrqZG4o"
      },
      "source": [
        "# Compute Gradiants"
      ]
    },
    {
      "cell_type": "markdown",
      "metadata": {
        "id": "q6RfTOoMaepf"
      },
      "source": [
        "Gradiants for weights"
      ]
    },
    {
      "cell_type": "code",
      "metadata": {
        "colab": {
          "base_uri": "https://localhost:8080/"
        },
        "id": "dZIxBKyqag1O",
        "outputId": "45f87af6-dab1-46d4-d13d-76c7a4549513"
      },
      "source": [
        "weights_grad = (np.matmul(np.transpose((preds-targets)),inputs))*2/x_shape[0]\n",
        "weights_grad"
      ],
      "execution_count": 11,
      "outputs": [
        {
          "output_type": "execute_result",
          "data": {
            "text/plain": [
              "array([[ -1594.16594944,  -3128.61190559,  -1591.7376071 ],\n",
              "       [ -9467.39983604, -11616.84291804,  -6934.11450287]])"
            ]
          },
          "metadata": {},
          "execution_count": 11
        }
      ]
    },
    {
      "cell_type": "markdown",
      "metadata": {
        "id": "MOC3j-B8akw_"
      },
      "source": [
        "Gradiants for biases"
      ]
    },
    {
      "cell_type": "code",
      "metadata": {
        "colab": {
          "base_uri": "https://localhost:8080/"
        },
        "id": "MpAlXb2Qamjf",
        "outputId": "0e0857fa-c782-46ad-c86a-1b64211d54ff"
      },
      "source": [
        "biases_grad = (preds-targets)*2/x_shape[0]\n",
        "biases_grad"
      ],
      "execution_count": 12,
      "outputs": [
        {
          "output_type": "execute_result",
          "data": {
            "text/plain": [
              "array([[ -0.47849882,  -5.61914292],\n",
              "       [ -1.12943975,  -8.49359605],\n",
              "       [ -5.28112065, -12.21206479],\n",
              "       [  3.01444351,  -1.55778837],\n",
              "       [ -3.49517945, -10.81231475],\n",
              "       [ -0.56421298,  -5.73144578],\n",
              "       [ -1.09984755,  -8.46053479],\n",
              "       [ -5.26628367, -12.27824829],\n",
              "       [  2.93744572,  -1.55610343],\n",
              "       [ -3.45900034, -10.7782583 ],\n",
              "       [ -0.49731595,  -5.63953382],\n",
              "       [ -1.10662534,  -8.56607871],\n",
              "       [ -5.30123161, -12.25170044],\n",
              "       [  3.01887228,  -1.52322212],\n",
              "       [ -3.39889586, -10.80422443]])"
            ]
          },
          "metadata": {},
          "execution_count": 12
        }
      ]
    },
    {
      "cell_type": "markdown",
      "metadata": {
        "id": "y9oDCc2Ka0su"
      },
      "source": [
        "# Adjust Weights using Gradints"
      ]
    },
    {
      "cell_type": "code",
      "metadata": {
        "colab": {
          "base_uri": "https://localhost:8080/"
        },
        "id": "lULH5Ogua73_",
        "outputId": "d28fd1e5-ce8f-4d7a-b4fe-5f8cb41f5ddf"
      },
      "source": [
        "weights -= weights_grad * 1e-5\n",
        "weights"
      ],
      "execution_count": 13,
      "outputs": [
        {
          "output_type": "execute_result",
          "data": {
            "text/plain": [
              "array([[0.09380421, 0.26803649, 0.71088243],\n",
              "       [0.19287737, 0.24501486, 0.32675254]])"
            ]
          },
          "metadata": {},
          "execution_count": 13
        }
      ]
    },
    {
      "cell_type": "code",
      "metadata": {
        "colab": {
          "base_uri": "https://localhost:8080/"
        },
        "id": "LUNKd_a6bEf2",
        "outputId": "b0b19b8f-462f-4328-ffc9-e20a3a178f61"
      },
      "source": [
        "biases -= biases_grad * 1e-5\n",
        "biases"
      ],
      "execution_count": 14,
      "outputs": [
        {
          "output_type": "execute_result",
          "data": {
            "text/plain": [
              "array([[0.98152504, 0.98623685],\n",
              "       [0.13192474, 0.548792  ],\n",
              "       [0.58508314, 0.67065969],\n",
              "       [0.77234266, 0.23524022],\n",
              "       [0.03808354, 0.7436594 ],\n",
              "       [0.33866972, 0.14396659],\n",
              "       [0.35386589, 0.79675109],\n",
              "       [0.69636032, 0.17428409],\n",
              "       [0.19486005, 0.24787721],\n",
              "       [0.30942652, 0.99908244],\n",
              "       [0.84039676, 0.83330531],\n",
              "       [0.30303253, 0.00517275],\n",
              "       [0.43425118, 0.37339271],\n",
              "       [0.80555838, 0.49448673],\n",
              "       [0.76020949, 0.80433668]])"
            ]
          },
          "metadata": {},
          "execution_count": 14
        }
      ]
    },
    {
      "cell_type": "markdown",
      "metadata": {
        "id": "KSCc27JGbHK3"
      },
      "source": [
        "Calculate Loss"
      ]
    },
    {
      "cell_type": "code",
      "metadata": {
        "colab": {
          "base_uri": "https://localhost:8080/"
        },
        "id": "KfDQt0igbLI-",
        "outputId": "107b5946-538d-4f69-85b6-502d1798cbcf"
      },
      "source": [
        "preds = model(inputs)\n",
        "loss = mse(preds, targets)\n",
        "print(loss)"
      ],
      "execution_count": 15,
      "outputs": [
        {
          "output_type": "stream",
          "name": "stdout",
          "text": [
            "2402.890215591477\n"
          ]
        }
      ]
    },
    {
      "cell_type": "code",
      "metadata": {
        "id": "pMxcL_C_bPb_"
      },
      "source": [
        "for i in range(200):\n",
        "    preds = model(inputs)\n",
        "    loss = mse(preds, targets)\n",
        "    \n",
        "    biases_grad = ((((inputs@np.transpose(weights))+biases)-targets))*2/x_shape[0]\n",
        "    weights_grad = (np.matmul(np.transpose((((inputs@np.transpose(weights))+biases)-targets)),inputs))*2/x_shape[0]\n",
        "\n",
        "    weights -= weights_grad * 1e-5\n",
        "    biases -= biases_grad * 1e-5"
      ],
      "execution_count": 16,
      "outputs": []
    },
    {
      "cell_type": "markdown",
      "metadata": {
        "id": "6VyHQIBdbUug"
      },
      "source": [
        "Calculate Loss"
      ]
    },
    {
      "cell_type": "code",
      "metadata": {
        "colab": {
          "base_uri": "https://localhost:8080/"
        },
        "id": "EeMa_o4ubWsf",
        "outputId": "00aac8cc-b737-496e-92f4-9cd7a8be69d2"
      },
      "source": [
        "preds = model(inputs)\n",
        "loss = mse(preds, targets)\n",
        "print(loss)"
      ],
      "execution_count": 17,
      "outputs": [
        {
          "output_type": "stream",
          "name": "stdout",
          "text": [
            "14.336919153509632\n"
          ]
        }
      ]
    },
    {
      "cell_type": "markdown",
      "metadata": {
        "id": "I70ex4sibYh_"
      },
      "source": [
        "Printing Predictions"
      ]
    },
    {
      "cell_type": "code",
      "metadata": {
        "colab": {
          "base_uri": "https://localhost:8080/"
        },
        "id": "6ml43Sq4bale",
        "outputId": "c4b148d2-2558-454d-dcbb-d9057f4f167b"
      },
      "source": [
        "preds"
      ],
      "execution_count": 18,
      "outputs": [
        {
          "output_type": "execute_result",
          "data": {
            "text/plain": [
              "array([[ 58.11681542,  71.60357874],\n",
              "       [ 82.74776218,  98.92881817],\n",
              "       [115.99850053, 135.73543481],\n",
              "       [ 23.62907662,  40.86110382],\n",
              "       [101.80826951, 113.97887246],\n",
              "       [ 57.47413151,  70.76153305],\n",
              "       [ 82.96964416,  99.17671114],\n",
              "       [116.10974805, 135.23919157],\n",
              "       [ 23.05174799,  40.87373744],\n",
              "       [102.07954015, 114.23422739],\n",
              "       [ 57.97572478,  71.45068797],\n",
              "       [ 82.91882435,  98.38534386],\n",
              "       [115.84770879, 135.43824709],\n",
              "       [ 23.66228349,  41.1202812 ],\n",
              "       [102.53020293, 114.03953356]])"
            ]
          },
          "metadata": {},
          "execution_count": 18
        }
      ]
    },
    {
      "cell_type": "markdown",
      "metadata": {
        "id": "8kWZqJG7bdJO"
      },
      "source": [
        "Compare with targets"
      ]
    },
    {
      "cell_type": "code",
      "metadata": {
        "colab": {
          "base_uri": "https://localhost:8080/"
        },
        "id": "MdNusqAUbgF9",
        "outputId": "8ff751b6-2cc8-47d2-ca67-83b9eaa8104e"
      },
      "source": [
        "targets"
      ],
      "execution_count": 19,
      "outputs": [
        {
          "output_type": "execute_result",
          "data": {
            "text/plain": [
              "array([[ 56.,  70.],\n",
              "       [ 81., 101.],\n",
              "       [119., 133.],\n",
              "       [ 22.,  37.],\n",
              "       [103., 119.],\n",
              "       [ 56.,  70.],\n",
              "       [ 81., 101.],\n",
              "       [119., 133.],\n",
              "       [ 22.,  37.],\n",
              "       [103., 119.],\n",
              "       [ 56.,  70.],\n",
              "       [ 81., 101.],\n",
              "       [119., 133.],\n",
              "       [ 22.,  37.],\n",
              "       [103., 119.]], dtype=float32)"
            ]
          },
          "metadata": {},
          "execution_count": 19
        }
      ]
    }
  ]
}