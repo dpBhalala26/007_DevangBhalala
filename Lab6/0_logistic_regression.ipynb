{
  "nbformat": 4,
  "nbformat_minor": 0,
  "metadata": {
    "colab": {
      "name": "0_logistic_regression.ipynb",
      "provenance": []
    },
    "kernelspec": {
      "name": "python3",
      "display_name": "Python 3"
    },
    "language_info": {
      "name": "python"
    }
  },
  "cells": [
    {
      "cell_type": "code",
      "metadata": {
        "id": "BPxAktdwM2hX"
      },
      "source": [
        "#Importing libraries\n",
        "import numpy as np \n",
        "import pandas as pd \n",
        "import io\n",
        "import matplotlib.pyplot as plt"
      ],
      "execution_count": 43,
      "outputs": []
    },
    {
      "cell_type": "code",
      "metadata": {
        "colab": {
          "resources": {
            "http://localhost:8080/nbextensions/google.colab/files.js": {
              "data": "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",
              "ok": true,
              "headers": [
                [
                  "content-type",
                  "application/javascript"
                ]
              ],
              "status": 200,
              "status_text": ""
            }
          },
          "base_uri": "https://localhost:8080/",
          "height": 258
        },
        "id": "oH4LDqWMNG-8",
        "outputId": "33530743-1ab5-4c88-e474-70435e4b13f5"
      },
      "source": [
        "# reading the csv file, del 2 columns from the file, checking first few rows of the file\n",
        "from google.colab import files\n",
        "uploaded = files.upload()\n",
        "\n",
        "data = pd.read_csv(io.BytesIO(uploaded['BuyComputer.csv']))\n",
        "\n",
        "data.drop(columns=['User ID',],axis=1,inplace=True)\n",
        "data.head()"
      ],
      "execution_count": 44,
      "outputs": [
        {
          "output_type": "display_data",
          "data": {
            "text/html": [
              "\n",
              "     <input type=\"file\" id=\"files-88278a4e-b034-4fce-9cc1-2834120f84c9\" name=\"files[]\" multiple disabled\n",
              "        style=\"border:none\" />\n",
              "     <output id=\"result-88278a4e-b034-4fce-9cc1-2834120f84c9\">\n",
              "      Upload widget is only available when the cell has been executed in the\n",
              "      current browser session. Please rerun this cell to enable.\n",
              "      </output>\n",
              "      <script src=\"/nbextensions/google.colab/files.js\"></script> "
            ],
            "text/plain": [
              "<IPython.core.display.HTML object>"
            ]
          },
          "metadata": {}
        },
        {
          "output_type": "stream",
          "name": "stdout",
          "text": [
            "Saving BuyComputer.csv to BuyComputer (2).csv\n"
          ]
        },
        {
          "output_type": "execute_result",
          "data": {
            "text/html": [
              "<div>\n",
              "<style scoped>\n",
              "    .dataframe tbody tr th:only-of-type {\n",
              "        vertical-align: middle;\n",
              "    }\n",
              "\n",
              "    .dataframe tbody tr th {\n",
              "        vertical-align: top;\n",
              "    }\n",
              "\n",
              "    .dataframe thead th {\n",
              "        text-align: right;\n",
              "    }\n",
              "</style>\n",
              "<table border=\"1\" class=\"dataframe\">\n",
              "  <thead>\n",
              "    <tr style=\"text-align: right;\">\n",
              "      <th></th>\n",
              "      <th>Age</th>\n",
              "      <th>EstimatedSalary</th>\n",
              "      <th>Purchased</th>\n",
              "    </tr>\n",
              "  </thead>\n",
              "  <tbody>\n",
              "    <tr>\n",
              "      <th>0</th>\n",
              "      <td>19</td>\n",
              "      <td>19000</td>\n",
              "      <td>0</td>\n",
              "    </tr>\n",
              "    <tr>\n",
              "      <th>1</th>\n",
              "      <td>35</td>\n",
              "      <td>20000</td>\n",
              "      <td>0</td>\n",
              "    </tr>\n",
              "    <tr>\n",
              "      <th>2</th>\n",
              "      <td>26</td>\n",
              "      <td>43000</td>\n",
              "      <td>0</td>\n",
              "    </tr>\n",
              "    <tr>\n",
              "      <th>3</th>\n",
              "      <td>27</td>\n",
              "      <td>57000</td>\n",
              "      <td>0</td>\n",
              "    </tr>\n",
              "    <tr>\n",
              "      <th>4</th>\n",
              "      <td>19</td>\n",
              "      <td>76000</td>\n",
              "      <td>0</td>\n",
              "    </tr>\n",
              "  </tbody>\n",
              "</table>\n",
              "</div>"
            ],
            "text/plain": [
              "   Age  EstimatedSalary  Purchased\n",
              "0   19            19000          0\n",
              "1   35            20000          0\n",
              "2   26            43000          0\n",
              "3   27            57000          0\n",
              "4   19            76000          0"
            ]
          },
          "metadata": {},
          "execution_count": 44
        }
      ]
    },
    {
      "cell_type": "code",
      "metadata": {
        "id": "5hXF1A2NNRkz"
      },
      "source": [
        "#Declare label as last column in the source file\n",
        "y = data.iloc[:,-1].values"
      ],
      "execution_count": 45,
      "outputs": []
    },
    {
      "cell_type": "code",
      "metadata": {
        "id": "CXOb1SqLNT2T"
      },
      "source": [
        "#Declaring X as all columns excluding last\n",
        "X = data.iloc[:,:-1].values"
      ],
      "execution_count": 46,
      "outputs": []
    },
    {
      "cell_type": "code",
      "metadata": {
        "id": "v3qrcgAmNXaL"
      },
      "source": [
        "# Splitting data\n",
        "from sklearn.model_selection import train_test_split\n",
        "X_train, X_test, y_train, y_test = train_test_split(X, y, test_size = 0.30, random_state = 7)"
      ],
      "execution_count": 47,
      "outputs": []
    },
    {
      "cell_type": "code",
      "metadata": {
        "id": "SyX2WeEnNZ0b"
      },
      "source": [
        "# Sacaling data\n",
        "from sklearn.preprocessing import StandardScaler\n",
        "sc = StandardScaler()\n",
        "X_train = sc.fit_transform(X_train)\n",
        "X_test = sc.transform(X_test)"
      ],
      "execution_count": 48,
      "outputs": []
    },
    {
      "cell_type": "code",
      "metadata": {
        "id": "whRpSpAfNciT",
        "colab": {
          "base_uri": "https://localhost:8080/"
        },
        "outputId": "f69597f6-d575-461e-e67b-adc50b0a422b"
      },
      "source": [
        "# Variabes to calculate sigmoid function\n",
        "y_pred = []\n",
        "len_x = len(X_train[0])\n",
        "w = []\n",
        "b = 0.2\n",
        "print(len_x)"
      ],
      "execution_count": 49,
      "outputs": [
        {
          "output_type": "stream",
          "name": "stdout",
          "text": [
            "2\n"
          ]
        }
      ]
    },
    {
      "cell_type": "code",
      "metadata": {
        "id": "9x68hFEsNeGD",
        "colab": {
          "base_uri": "https://localhost:8080/"
        },
        "outputId": "a34d3274-bad3-4ffd-eac7-7cf3191d18ce"
      },
      "source": [
        "entries = len(X_train[:,0])\n",
        "entries"
      ],
      "execution_count": 50,
      "outputs": [
        {
          "output_type": "execute_result",
          "data": {
            "text/plain": [
              "280"
            ]
          },
          "metadata": {},
          "execution_count": 50
        }
      ]
    },
    {
      "cell_type": "code",
      "metadata": {
        "id": "OgdS5PMSNf0b",
        "colab": {
          "base_uri": "https://localhost:8080/"
        },
        "outputId": "9e1fd79a-d3e5-471e-d269-349e37415eed"
      },
      "source": [
        "for weights in range(len_x):\n",
        "    w.append(0)\n",
        "w"
      ],
      "execution_count": 51,
      "outputs": [
        {
          "output_type": "execute_result",
          "data": {
            "text/plain": [
              "[0, 0]"
            ]
          },
          "metadata": {},
          "execution_count": 51
        }
      ]
    },
    {
      "cell_type": "code",
      "metadata": {
        "id": "jeywYyBON9SD"
      },
      "source": [
        "# Sigmoid function\n",
        "def sigmoid(z):\n",
        "    return (1/(1+np.exp(-z)))"
      ],
      "execution_count": 52,
      "outputs": []
    },
    {
      "cell_type": "code",
      "metadata": {
        "id": "y2FLFDhQN_u7"
      },
      "source": [
        "def predict(inputs):\n",
        "    z = np.dot(w,inputs)+b\n",
        "    a = sigmoid(z)\n",
        "    return a"
      ],
      "execution_count": 53,
      "outputs": []
    },
    {
      "cell_type": "code",
      "metadata": {
        "id": "SyhMQnULOBuD"
      },
      "source": [
        "#Loss function\n",
        "def loss_func(y,a):\n",
        "    J = 0\n",
        "    return J         "
      ],
      "execution_count": 54,
      "outputs": []
    },
    {
      "cell_type": "code",
      "metadata": {
        "id": "ZH6sK65gOGGy"
      },
      "source": [
        "dw = []\n",
        "db = 0\n",
        "J = 0\n",
        "alpha = 0.1\n",
        "for x in range(len_x):\n",
        "    dw.append(0)"
      ],
      "execution_count": 55,
      "outputs": []
    },
    {
      "cell_type": "code",
      "metadata": {
        "id": "joyKdR7LOQNL"
      },
      "source": [
        "#Repeating the process 3000 times\n",
        "for itr in range(3000):\n",
        "    for i in range(entries):\n",
        "        local_x = X_train[i]\n",
        "        a = predict(local_x)   \n",
        "        dz = a - y_train[i]\n",
        "        J += loss_func(y_train[i],a)\n",
        "        for j in range(len_x):\n",
        "            dw[j] = dw[j]+(local_x[j]*dz)\n",
        "        db += dz\n",
        "    J = J/entries\n",
        "    db = db/entries\n",
        "    for x in range(len_x):\n",
        "        dw[x]=dw[x]/entries\n",
        "    for x in range(len_x):\n",
        "        w[x] = w[x]-(alpha*dw[x])\n",
        "    b = b-(alpha*db)         \n",
        "    J=0"
      ],
      "execution_count": 56,
      "outputs": []
    },
    {
      "cell_type": "code",
      "metadata": {
        "id": "XwcpdCYNOR1T",
        "colab": {
          "base_uri": "https://localhost:8080/"
        },
        "outputId": "7407e2ca-e7e8-4198-efe6-d8dc4037c39a"
      },
      "source": [
        "#Print weight\n",
        "w"
      ],
      "execution_count": 57,
      "outputs": [
        {
          "output_type": "execute_result",
          "data": {
            "text/plain": [
              "[2.7627025594258, 1.549097076632127]"
            ]
          },
          "metadata": {},
          "execution_count": 57
        }
      ]
    },
    {
      "cell_type": "code",
      "metadata": {
        "id": "5reFCUHNOUM7",
        "colab": {
          "base_uri": "https://localhost:8080/"
        },
        "outputId": "0f5ccbff-b745-4988-d456-7c182ac09f66"
      },
      "source": [
        "#print bias\n",
        "b"
      ],
      "execution_count": 58,
      "outputs": [
        {
          "output_type": "execute_result",
          "data": {
            "text/plain": [
              "-0.9738639573884794"
            ]
          },
          "metadata": {},
          "execution_count": 58
        }
      ]
    },
    {
      "cell_type": "code",
      "metadata": {
        "id": "VnRhcYX5OWKb"
      },
      "source": [
        "#predicting the label\n",
        "for x in range(len(y_test)):\n",
        "    y_pred.append(predict(X_test[x]))"
      ],
      "execution_count": 59,
      "outputs": []
    },
    {
      "cell_type": "code",
      "metadata": {
        "id": "RiUiqrYcOX6s",
        "colab": {
          "base_uri": "https://localhost:8080/"
        },
        "outputId": "bb2ca1f8-dcec-4a71-f9d0-a5d62b4ab7d4"
      },
      "source": [
        "#print actual and predicted values in a table\n",
        "for x in range(len(y_pred)):\n",
        "    print('Actual value is: ', y_test[x], '\\tPredicted value is: ', y_pred[x])\n",
        "    if y_pred[x]>=0.5:\n",
        "        y_pred[x]=1\n",
        "    else:\n",
        "        y_pred[x]=0"
      ],
      "execution_count": 60,
      "outputs": [
        {
          "output_type": "stream",
          "name": "stdout",
          "text": [
            "Actual value is:  1 \tPredicted value is:  0.8633714757812312\n",
            "Actual value is:  0 \tPredicted value is:  0.006442144721516152\n",
            "Actual value is:  0 \tPredicted value is:  0.23611128823934224\n",
            "Actual value is:  0 \tPredicted value is:  0.0999334721094465\n",
            "Actual value is:  1 \tPredicted value is:  0.6578793294802207\n",
            "Actual value is:  1 \tPredicted value is:  0.5284062591949726\n",
            "Actual value is:  1 \tPredicted value is:  0.9912364665365835\n",
            "Actual value is:  0 \tPredicted value is:  0.2512242273583855\n",
            "Actual value is:  1 \tPredicted value is:  0.9953433140277677\n",
            "Actual value is:  0 \tPredicted value is:  0.09816909651034345\n",
            "Actual value is:  0 \tPredicted value is:  0.0032020215513214267\n",
            "Actual value is:  1 \tPredicted value is:  0.8908238621035135\n",
            "Actual value is:  0 \tPredicted value is:  0.005888358243741755\n",
            "Actual value is:  1 \tPredicted value is:  0.9569058970007067\n",
            "Actual value is:  0 \tPredicted value is:  0.5850897679910786\n",
            "Actual value is:  1 \tPredicted value is:  0.9730349746960285\n",
            "Actual value is:  0 \tPredicted value is:  0.3002687983110859\n",
            "Actual value is:  0 \tPredicted value is:  0.0443220008894602\n",
            "Actual value is:  0 \tPredicted value is:  0.5942156445950183\n",
            "Actual value is:  1 \tPredicted value is:  0.8690575970909478\n",
            "Actual value is:  0 \tPredicted value is:  0.06695379793118585\n",
            "Actual value is:  0 \tPredicted value is:  0.018759878242536488\n",
            "Actual value is:  1 \tPredicted value is:  0.504635194053635\n",
            "Actual value is:  1 \tPredicted value is:  0.3483488856107088\n",
            "Actual value is:  0 \tPredicted value is:  0.07483340591707559\n",
            "Actual value is:  0 \tPredicted value is:  0.15370757790968984\n",
            "Actual value is:  1 \tPredicted value is:  0.9029985207248259\n",
            "Actual value is:  0 \tPredicted value is:  0.06736669139320668\n",
            "Actual value is:  0 \tPredicted value is:  0.134877038892481\n",
            "Actual value is:  0 \tPredicted value is:  0.2013766598277529\n",
            "Actual value is:  0 \tPredicted value is:  0.43290311550740146\n",
            "Actual value is:  0 \tPredicted value is:  0.003948033702745153\n",
            "Actual value is:  0 \tPredicted value is:  0.20350483616878717\n",
            "Actual value is:  0 \tPredicted value is:  0.4973101099696611\n",
            "Actual value is:  0 \tPredicted value is:  0.0026137314467247212\n",
            "Actual value is:  1 \tPredicted value is:  0.9540560653361915\n",
            "Actual value is:  0 \tPredicted value is:  0.0007354591093467674\n",
            "Actual value is:  0 \tPredicted value is:  0.9910044751528437\n",
            "Actual value is:  1 \tPredicted value is:  0.8314134563724002\n",
            "Actual value is:  0 \tPredicted value is:  0.07302860242489369\n",
            "Actual value is:  0 \tPredicted value is:  0.030520663065551755\n",
            "Actual value is:  0 \tPredicted value is:  0.0017019849534634294\n",
            "Actual value is:  0 \tPredicted value is:  0.07302860242489369\n",
            "Actual value is:  0 \tPredicted value is:  0.3660861603701711\n",
            "Actual value is:  0 \tPredicted value is:  0.3931556982094748\n",
            "Actual value is:  1 \tPredicted value is:  0.8410882970282576\n",
            "Actual value is:  0 \tPredicted value is:  0.033313429468019795\n",
            "Actual value is:  0 \tPredicted value is:  0.33329424400217333\n",
            "Actual value is:  0 \tPredicted value is:  0.012047639572734128\n",
            "Actual value is:  0 \tPredicted value is:  0.046740471447057556\n",
            "Actual value is:  0 \tPredicted value is:  0.013321447364414518\n",
            "Actual value is:  1 \tPredicted value is:  0.6059913769616796\n",
            "Actual value is:  1 \tPredicted value is:  0.6100031979541419\n",
            "Actual value is:  0 \tPredicted value is:  0.38108042118864505\n",
            "Actual value is:  1 \tPredicted value is:  0.9462124167615543\n",
            "Actual value is:  0 \tPredicted value is:  0.852348131983968\n",
            "Actual value is:  1 \tPredicted value is:  0.9912935317124664\n",
            "Actual value is:  0 \tPredicted value is:  0.6463331335587325\n",
            "Actual value is:  0 \tPredicted value is:  0.04586738593352071\n",
            "Actual value is:  0 \tPredicted value is:  0.07529097057987058\n",
            "Actual value is:  0 \tPredicted value is:  0.026359214741848117\n",
            "Actual value is:  1 \tPredicted value is:  0.8048081141105042\n",
            "Actual value is:  0 \tPredicted value is:  0.3030455047288212\n",
            "Actual value is:  1 \tPredicted value is:  0.9798955514955139\n",
            "Actual value is:  0 \tPredicted value is:  0.01058303672061586\n",
            "Actual value is:  0 \tPredicted value is:  0.15200078193962083\n",
            "Actual value is:  0 \tPredicted value is:  0.35889321865055324\n",
            "Actual value is:  0 \tPredicted value is:  0.8492334515406023\n",
            "Actual value is:  0 \tPredicted value is:  0.4845903732796123\n",
            "Actual value is:  1 \tPredicted value is:  0.8962907078695614\n",
            "Actual value is:  1 \tPredicted value is:  0.965986566768078\n",
            "Actual value is:  0 \tPredicted value is:  0.024967700682297086\n",
            "Actual value is:  0 \tPredicted value is:  0.011129489848989782\n",
            "Actual value is:  1 \tPredicted value is:  0.7825788396603343\n",
            "Actual value is:  0 \tPredicted value is:  0.33329424400217333\n",
            "Actual value is:  1 \tPredicted value is:  0.32641384178169025\n",
            "Actual value is:  0 \tPredicted value is:  0.4133301515807349\n",
            "Actual value is:  1 \tPredicted value is:  0.6387647952293164\n",
            "Actual value is:  0 \tPredicted value is:  0.00869139694423631\n",
            "Actual value is:  0 \tPredicted value is:  0.0017672896330297276\n",
            "Actual value is:  0 \tPredicted value is:  0.9612286961790926\n",
            "Actual value is:  0 \tPredicted value is:  0.1791685076060005\n",
            "Actual value is:  0 \tPredicted value is:  0.134877038892481\n",
            "Actual value is:  0 \tPredicted value is:  0.0020447462314215664\n",
            "Actual value is:  0 \tPredicted value is:  0.4973101099696611\n",
            "Actual value is:  1 \tPredicted value is:  0.42205963849438133\n",
            "Actual value is:  0 \tPredicted value is:  0.13334639399141868\n",
            "Actual value is:  1 \tPredicted value is:  0.6459156629494668\n",
            "Actual value is:  0 \tPredicted value is:  0.023262317452100528\n",
            "Actual value is:  1 \tPredicted value is:  0.7400133789150977\n",
            "Actual value is:  0 \tPredicted value is:  0.005832837985049123\n",
            "Actual value is:  0 \tPredicted value is:  0.3660861603701711\n",
            "Actual value is:  1 \tPredicted value is:  0.9744299123912538\n",
            "Actual value is:  1 \tPredicted value is:  0.789416956516044\n",
            "Actual value is:  0 \tPredicted value is:  0.13876859299957664\n",
            "Actual value is:  0 \tPredicted value is:  0.5742946743708466\n",
            "Actual value is:  0 \tPredicted value is:  0.0011504663876410243\n",
            "Actual value is:  1 \tPredicted value is:  0.3235224106109471\n",
            "Actual value is:  0 \tPredicted value is:  0.004709980551176396\n",
            "Actual value is:  0 \tPredicted value is:  0.018759878242536488\n",
            "Actual value is:  1 \tPredicted value is:  0.9766979383850114\n",
            "Actual value is:  0 \tPredicted value is:  0.035377523438953194\n",
            "Actual value is:  0 \tPredicted value is:  0.28198554589515296\n",
            "Actual value is:  1 \tPredicted value is:  0.6750506670280786\n",
            "Actual value is:  0 \tPredicted value is:  0.0071613522222669646\n",
            "Actual value is:  0 \tPredicted value is:  0.7468589664191178\n",
            "Actual value is:  0 \tPredicted value is:  0.0021270464265919073\n",
            "Actual value is:  0 \tPredicted value is:  0.05911281783027366\n",
            "Actual value is:  0 \tPredicted value is:  0.4973101099696611\n",
            "Actual value is:  1 \tPredicted value is:  0.8679693660449119\n",
            "Actual value is:  1 \tPredicted value is:  0.9473566090715068\n",
            "Actual value is:  0 \tPredicted value is:  0.0056448303445886605\n",
            "Actual value is:  0 \tPredicted value is:  0.020200074369179165\n",
            "Actual value is:  0 \tPredicted value is:  0.005571325593657444\n",
            "Actual value is:  0 \tPredicted value is:  0.007081065987500226\n",
            "Actual value is:  0 \tPredicted value is:  0.9923188672765277\n",
            "Actual value is:  0 \tPredicted value is:  0.047929190787241664\n",
            "Actual value is:  0 \tPredicted value is:  0.9951739642765229\n",
            "Actual value is:  0 \tPredicted value is:  0.04267690688166107\n",
            "Actual value is:  1 \tPredicted value is:  0.9966032346698643\n"
          ]
        }
      ]
    },
    {
      "cell_type": "code",
      "metadata": {
        "id": "i4t3E7k-OZwK",
        "colab": {
          "base_uri": "https://localhost:8080/"
        },
        "outputId": "f4fed1f4-db4b-4892-eb2b-4ae47bb2a49e"
      },
      "source": [
        "# Calculating accuracy of prediction\n",
        "count = 0\n",
        "for x in range(len(y_pred)):\n",
        "    if(y_pred[x]==y_test[x]):\n",
        "        count=count+1\n",
        "print('Accuracy is: ',(count/(len(y_pred)))*100)"
      ],
      "execution_count": 61,
      "outputs": [
        {
          "output_type": "stream",
          "name": "stdout",
          "text": [
            "Accuracy is:  87.5\n"
          ]
        }
      ]
    },
    {
      "cell_type": "markdown",
      "metadata": {
        "id": "eSUmsNFlOyly"
      },
      "source": [
        "#Using sklearn LogisticRegression model"
      ]
    },
    {
      "cell_type": "code",
      "metadata": {
        "id": "zMr3o2ZrOzIy",
        "colab": {
          "base_uri": "https://localhost:8080/"
        },
        "outputId": "1ee28f8f-3320-4c94-f748-1c8bd0679b5a"
      },
      "source": [
        "# Fitting Logistic Regression to the Training set\n",
        "from sklearn.linear_model import LogisticRegression\n",
        "LR = LogisticRegression(random_state = 7)\n",
        "\n",
        "#Fit\n",
        "LR.fit(X_train, y_train)\n",
        "\n",
        "#predicting the test label with LR. Predict always takes X as input\n",
        "y_predLR = LR.predict(X_test)\n",
        "\n",
        "y_predLR"
      ],
      "execution_count": 62,
      "outputs": [
        {
          "output_type": "execute_result",
          "data": {
            "text/plain": [
              "array([1, 0, 0, 0, 1, 1, 1, 0, 1, 0, 0, 1, 0, 1, 1, 1, 0, 0, 1, 1, 0, 0,\n",
              "       0, 0, 0, 0, 1, 0, 0, 0, 0, 0, 0, 0, 0, 1, 0, 1, 1, 0, 0, 0, 0, 0,\n",
              "       0, 1, 0, 0, 0, 0, 0, 1, 1, 0, 1, 1, 1, 1, 0, 0, 0, 1, 0, 1, 0, 0,\n",
              "       0, 1, 0, 1, 1, 0, 0, 1, 0, 0, 0, 1, 0, 0, 1, 0, 0, 0, 0, 0, 0, 1,\n",
              "       0, 1, 0, 0, 1, 1, 0, 1, 0, 0, 0, 0, 1, 0, 0, 1, 0, 1, 0, 0, 0, 1,\n",
              "       1, 0, 0, 0, 0, 1, 0, 1, 0, 1])"
            ]
          },
          "metadata": {},
          "execution_count": 62
        }
      ]
    },
    {
      "cell_type": "markdown",
      "metadata": {
        "id": "vBkQ-RlvO2y1"
      },
      "source": [
        "**Exercise:**\n",
        "\n",
        "Try logistic regression on BuyComputer dataset and set Random state=Your_RollNumber (last 3 digit of ID, incase if you don't have ID)"
      ]
    }
  ]
}