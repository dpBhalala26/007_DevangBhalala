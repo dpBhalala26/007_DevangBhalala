{
  "nbformat": 4,
  "nbformat_minor": 0,
  "metadata": {
    "colab": {
      "name": "1_logistic_regression_tensorflow.ipynb",
      "provenance": [],
      "collapsed_sections": []
    },
    "kernelspec": {
      "name": "python3",
      "display_name": "Python 3"
    },
    "language_info": {
      "name": "python"
    }
  },
  "cells": [
    {
      "cell_type": "markdown",
      "metadata": {
        "id": "hB9ed234clg_"
      },
      "source": [
        "#Step 1: Importing required modules."
      ]
    },
    {
      "cell_type": "code",
      "metadata": {
        "id": "maspsgf7cl_A"
      },
      "source": [
        "from __future__ import absolute_import, division, print_function\n",
        "\n",
        "import tensorflow as tf\n",
        "\n",
        "import numpy as np"
      ],
      "execution_count": 55,
      "outputs": []
    },
    {
      "cell_type": "markdown",
      "metadata": {
        "id": "didARQnVb3UK"
      },
      "source": [
        "MNIST data set. MNIST data is a collection of hand-written digits that contains 60,000 examples for training and 10,000 examples for testing. The digits have been size-normalized and centered in a fixed-size image (28x28 pixels) with values from 0 to 255. \n",
        "\n",
        "Next for each image we will:\n",
        "\n",
        "1) converted it to float32\n",
        "\n",
        "2) normalized to [0, 1]\n",
        "\n",
        "3) flattened to a 1-D array of 784 features (28*28).\n",
        "\n"
      ]
    },
    {
      "cell_type": "markdown",
      "metadata": {
        "id": "ah-oDHa9b7AQ"
      },
      "source": [
        "#Step 2: Loading and Preparing the MNIST Data Set"
      ]
    },
    {
      "cell_type": "code",
      "metadata": {
        "id": "hIdmobcWb9hU"
      },
      "source": [
        "from tensorflow.keras.datasets import mnist\n",
        "\n",
        "(x_train, y_train), (x_test, y_test) = mnist.load_data()\n",
        "\n",
        "# Convert to float32.\n",
        "x_train, x_test = np.array(x_train, np.float32), np.array(x_test, np.float32)\n",
        "\n",
        "# Flatten images to 1-D vector of 784 features (28*28).\n",
        "num_features=784\n",
        "x_train, x_test = x_train.reshape([-1, num_features]), x_test.reshape([-1, num_features])\n",
        "\n",
        "# Normalize images value from [0, 255] to [0, 1].\n",
        "x_train, x_test = x_train / 255., x_test / 255.\n"
      ],
      "execution_count": 56,
      "outputs": []
    },
    {
      "cell_type": "markdown",
      "metadata": {
        "id": "Ocm_tXhpb_94"
      },
      "source": [
        "#Step 3: Setting Up Hyperparameters and Data Set Parameters\n",
        "\n",
        "Initialize the model parameters. \n",
        "\n",
        "num_classes denotes the number of outputs, which is 10, as we have digits from 0 to 9 in the data set. \n",
        "\n",
        "num_features defines the number of input parameters, and we store 784 since each image contains 784 pixels."
      ]
    },
    {
      "cell_type": "code",
      "metadata": {
        "id": "p-5Gbr6xcBrI"
      },
      "source": [
        "# MNIST dataset parameters.\n",
        "\n",
        "num_classes = 10    # 0 to 9 digits\n",
        "\n",
        "num_features = 784  # 28*28\n",
        "\n",
        "# Training parameters.\n",
        "\n",
        "learning_rate = 0.01\n",
        "\n",
        "training_steps = 1000\n",
        "\n",
        "batch_size = 256\n",
        "\n",
        "display_step = 50"
      ],
      "execution_count": 57,
      "outputs": []
    },
    {
      "cell_type": "markdown",
      "metadata": {
        "id": "g7rIdocacDqI"
      },
      "source": [
        "#Step 4: Shuffling and Batching the Data\n",
        "\n",
        "We need to shuffle and batch the data before we start the actual training to avoid the model from getting biased by the data. This will allow our data to be more random and helps our model to gain higher accuracies with the test data.\n",
        "\n",
        "With the help of tf.data.Dataset.from_tensor_slices, we can get the slices of an array in the form of objects. \n",
        "\n",
        "The function shuffle(5000) randomizes the order of the data set’s examples. \n",
        "\n",
        "Here, 5000 denotes the variable shuffle_buffer, which tells the model to pick a sample randomly from 1 to 5000 samples. \n",
        "\n",
        "After that, there are only 4999 samples left in the buffer, so the sample 5001 gets added to the buffer. "
      ]
    },
    {
      "cell_type": "code",
      "metadata": {
        "id": "IAk2k3BncFc4"
      },
      "source": [
        "# Use tf.data API to shuffle and batch data.\n",
        "train_data = tf.data.Dataset.from_tensor_slices((x_train,y_train))\n",
        "train_data = train_data.repeat().shuffle(5000).batch(batch_size).prefetch(1)"
      ],
      "execution_count": 58,
      "outputs": []
    },
    {
      "cell_type": "markdown",
      "metadata": {
        "id": "PVLgmUPscHdv"
      },
      "source": [
        "#Step 5: Initializing Weights and Biases\n",
        "\n",
        "We now initialize the weights vector and bias vector with ones and zeros."
      ]
    },
    {
      "cell_type": "code",
      "metadata": {
        "id": "wmlHIIUjcJBg"
      },
      "source": [
        "# Weight of shape [784, 10], the 28*28 image features, and a total number of classes.\n",
        "weight = tf.Variable(tf.ones([num_features, num_classes]), name=\"weight\")\n",
        "\n",
        "# Bias of shape [10], the total number of classes.\n",
        "bias = tf.Variable(tf.zeros([num_classes]), name=\"bias\")\n"
      ],
      "execution_count": 59,
      "outputs": []
    },
    {
      "cell_type": "markdown",
      "metadata": {
        "id": "j90AmJJ9cK0I"
      },
      "source": [
        "#Step 6: Defining Logistic Regression and Cost Function\n",
        "\n",
        "We define the logistic_regression function below, which converts the inputs into a probability distribution proportional to the exponents of the inputs using the softmax function. The softmax function, which is implemented using the function tf.nn.softmax, also makes sure that the sum of all the inputs equals one."
      ]
    },
    {
      "cell_type": "code",
      "metadata": {
        "id": "GM5I8xYocMYY"
      },
      "source": [
        "# Logistic regression (Wx + b).\n",
        "\n",
        "def logistic_regression(x):\n",
        "  # Apply softmax to normalize the logits to a probability distribution.\n",
        "  return tf.nn.softmax(tf.matmul(x, weight) + bias)\n",
        "    \n",
        "\n",
        "# Cross-Entropy loss function.\n",
        "\n",
        "def cross_entropy(y_pred, y_true):\n",
        "\n",
        "  # Encode label to a one hot vector.\n",
        "  y_true = tf.one_hot(y_true, depth=num_classes)\n",
        "    \n",
        "  # Clip prediction values to avoid log(0) error.\n",
        "  y_pred = tf.clip_by_value(y_pred, 1e-9, 1.)\n",
        "    \n",
        "  # Compute cross-entropy.\n",
        "  return tf.reduce_mean(-tf.reduce_sum(y_true * tf.math.log(y_pred)))"
      ],
      "execution_count": 60,
      "outputs": []
    },
    {
      "cell_type": "markdown",
      "metadata": {
        "id": "1ORak9HgcOuJ"
      },
      "source": [
        "#Step 7: Defining Optimizers and Accuracy Metrics\n",
        "When we compute the output, it gives us the probability of the given data to fit a particular class of output. \n",
        "\n",
        "We consider the correct prediction as to the class having the highest probability. \n",
        "\n",
        "We compute this using the function tf.argmax. \n",
        "\n",
        "We also define the stochastic gradient descent as the optimizer from several optimizers present in TensorFlow. We do this using the function tf.optimizers.SGD. \n",
        "\n",
        "This function takes in the learning rate as its input, which defines how fast the model should reach its minimum loss or gain the highest accuracy."
      ]
    },
    {
      "cell_type": "code",
      "metadata": {
        "id": "wVRyR2-TcQfg"
      },
      "source": [
        "# Accuracy metric.\n",
        "\n",
        "def accuracy(y_pred, y_true):\n",
        "\n",
        "  # Predicted class is the index of the highest score in prediction vector (i.e. argmax).\n",
        "  correct_prediction = tf.equal(tf.argmax(y_pred, 1), tf.cast(y_true, tf.int64))\n",
        "  return tf.reduce_mean(tf.cast(correct_prediction, tf.float32))\n",
        "  "
      ],
      "execution_count": 61,
      "outputs": []
    },
    {
      "cell_type": "markdown",
      "metadata": {
        "id": "6rkwJlFdcSeg"
      },
      "source": [
        "#Step 8: Optimization Process and Updating Weights and Biases\n",
        "Now we define the run_optimization() method where we update the weights of our model. We calculate the predictions using the logistic_regression(x) method by taking the inputs and find out the loss generated by comparing the predicted value and the original value present in the data set. Next, we compute the gradients using and update the weights of the model with our stochastic gradient descent optimizer."
      ]
    },
    {
      "cell_type": "code",
      "metadata": {
        "id": "2q72A8WWcTwn"
      },
      "source": [
        "# Optimization process. \n",
        "\n",
        "def run_optimization(x, y):\n",
        "\n",
        "  # Wrap computation inside a GradientTape for automatic differentiation.\n",
        "  with tf.GradientTape() as g:\n",
        "        pred = logistic_regression(x)\n",
        "        loss = cross_entropy(pred, y)\n",
        "\n",
        "  # Compute gradients.\n",
        "  gradients = g.gradient(loss, [weight, bias])\n",
        "\n",
        "  # Stochastic gradient descent optimizer.\n",
        "  optimizer = tf.optimizers.SGD(learning_rate) \n",
        "\n",
        "  # Update W and b following gradients.\n",
        "  optimizer.apply_gradients(zip(gradients, [weight, bias]))\n",
        "    "
      ],
      "execution_count": 62,
      "outputs": []
    },
    {
      "cell_type": "markdown",
      "metadata": {
        "id": "SJkWy1o9cVlo"
      },
      "source": [
        "#Step 9: The Training Loop"
      ]
    },
    {
      "cell_type": "code",
      "metadata": {
        "id": "2FrdomMMcXKn",
        "colab": {
          "base_uri": "https://localhost:8080/"
        },
        "outputId": "31fef94f-69c1-4bee-8325-22f718d43fbe"
      },
      "source": [
        "# Run training for the given number of steps.\n",
        "\n",
        "for step, (batch_x, batch_y) in enumerate(train_data.take(training_steps), 1):\n",
        "\n",
        "    # Run the optimization to update W and b values.\n",
        "    run_optimization(batch_x, batch_y)\n",
        "\n",
        "    if step % display_step == 0:\n",
        "\n",
        "        #Obtain Predictions\n",
        "        pred = logistic_regression(batch_x)\n",
        "\n",
        "        #Ccompute loss\n",
        "        loss = cross_entropy(pred, batch_y)\n",
        "\n",
        "        #Compute Accuracy\n",
        "        acc = accuracy(pred, batch_y)\n",
        "\n",
        "        #print accuracy\n",
        "        print('step: ', step, '\\t loss: ', loss, '\\t acc: ', acc)"
      ],
      "execution_count": 63,
      "outputs": [
        {
          "output_type": "stream",
          "name": "stdout",
          "text": [
            "step:  50 \t loss:  tf.Tensor(565.0375, shape=(), dtype=float32) \t acc:  tf.Tensor(0.75, shape=(), dtype=float32)\n",
            "step:  100 \t loss:  tf.Tensor(661.62177, shape=(), dtype=float32) \t acc:  tf.Tensor(0.75390625, shape=(), dtype=float32)\n",
            "step:  150 \t loss:  tf.Tensor(520.29175, shape=(), dtype=float32) \t acc:  tf.Tensor(0.82421875, shape=(), dtype=float32)\n",
            "step:  200 \t loss:  tf.Tensor(741.3371, shape=(), dtype=float32) \t acc:  tf.Tensor(0.796875, shape=(), dtype=float32)\n",
            "step:  250 \t loss:  tf.Tensor(796.53235, shape=(), dtype=float32) \t acc:  tf.Tensor(0.80859375, shape=(), dtype=float32)\n",
            "step:  300 \t loss:  tf.Tensor(1155.2214, shape=(), dtype=float32) \t acc:  tf.Tensor(0.703125, shape=(), dtype=float32)\n",
            "step:  350 \t loss:  tf.Tensor(636.7406, shape=(), dtype=float32) \t acc:  tf.Tensor(0.81640625, shape=(), dtype=float32)\n",
            "step:  400 \t loss:  tf.Tensor(578.9906, shape=(), dtype=float32) \t acc:  tf.Tensor(0.81640625, shape=(), dtype=float32)\n",
            "step:  450 \t loss:  tf.Tensor(491.7251, shape=(), dtype=float32) \t acc:  tf.Tensor(0.859375, shape=(), dtype=float32)\n",
            "step:  500 \t loss:  tf.Tensor(538.4834, shape=(), dtype=float32) \t acc:  tf.Tensor(0.8671875, shape=(), dtype=float32)\n",
            "step:  550 \t loss:  tf.Tensor(621.5325, shape=(), dtype=float32) \t acc:  tf.Tensor(0.8359375, shape=(), dtype=float32)\n",
            "step:  600 \t loss:  tf.Tensor(637.13324, shape=(), dtype=float32) \t acc:  tf.Tensor(0.8203125, shape=(), dtype=float32)\n",
            "step:  650 \t loss:  tf.Tensor(733.3858, shape=(), dtype=float32) \t acc:  tf.Tensor(0.81640625, shape=(), dtype=float32)\n",
            "step:  700 \t loss:  tf.Tensor(553.46954, shape=(), dtype=float32) \t acc:  tf.Tensor(0.87109375, shape=(), dtype=float32)\n",
            "step:  750 \t loss:  tf.Tensor(717.5025, shape=(), dtype=float32) \t acc:  tf.Tensor(0.69921875, shape=(), dtype=float32)\n",
            "step:  800 \t loss:  tf.Tensor(909.4885, shape=(), dtype=float32) \t acc:  tf.Tensor(0.6640625, shape=(), dtype=float32)\n",
            "step:  850 \t loss:  tf.Tensor(683.0361, shape=(), dtype=float32) \t acc:  tf.Tensor(0.765625, shape=(), dtype=float32)\n",
            "step:  900 \t loss:  tf.Tensor(719.4571, shape=(), dtype=float32) \t acc:  tf.Tensor(0.7578125, shape=(), dtype=float32)\n",
            "step:  950 \t loss:  tf.Tensor(631.4868, shape=(), dtype=float32) \t acc:  tf.Tensor(0.83984375, shape=(), dtype=float32)\n",
            "step:  1000 \t loss:  tf.Tensor(590.60333, shape=(), dtype=float32) \t acc:  tf.Tensor(0.8359375, shape=(), dtype=float32)\n"
          ]
        }
      ]
    },
    {
      "cell_type": "markdown",
      "metadata": {
        "id": "fN8Gq79VcYyH"
      },
      "source": [
        "#Step 10: Testing Model Accuracy Using the Test Data\n",
        "\n",
        "Finally, we check the model accuracy by sending the test data set into our model and compute the accuracy using the accuracy function that we defined earlier."
      ]
    },
    {
      "cell_type": "code",
      "metadata": {
        "id": "qt0jqhghcaKP",
        "colab": {
          "base_uri": "https://localhost:8080/"
        },
        "outputId": "0e497832-4a5d-4f09-c52a-a4f481d168fb"
      },
      "source": [
        "# Test model on validation set.\n",
        "\n",
        "pred = logistic_regression(x_test)\n",
        "pred"
      ],
      "execution_count": 64,
      "outputs": [
        {
          "output_type": "execute_result",
          "data": {
            "text/plain": [
              "<tf.Tensor: shape=(10000, 10), dtype=float32, numpy=\n",
              "array([[8.4480844e-23, 7.6549606e-13, 8.1140452e-06, ..., 9.9964356e-01,\n",
              "        5.1545439e-09, 1.9368210e-06],\n",
              "       [2.7850738e-28, 2.5123052e-07, 9.9758875e-01, ..., 2.9785378e-20,\n",
              "        6.8207697e-07, 5.5039777e-16],\n",
              "       [5.8766193e-15, 9.8201424e-01, 1.6896876e-02, ..., 3.4596381e-04,\n",
              "        2.6939770e-05, 7.1073255e-06],\n",
              "       ...,\n",
              "       [6.8090327e-35, 3.8909262e-09, 3.6572703e-06, ..., 1.2558789e-05,\n",
              "        8.6807213e-06, 5.3844805e-04],\n",
              "       [5.6593775e-27, 8.9886917e-06, 5.9737058e-06, ..., 1.2326526e-09,\n",
              "        1.8247169e-04, 5.5474687e-09],\n",
              "       [3.8327612e-38, 7.1683043e-15, 4.5970140e-05, ..., 8.3760219e-16,\n",
              "        3.3270843e-12, 7.2229583e-14]], dtype=float32)>"
            ]
          },
          "metadata": {},
          "execution_count": 64
        }
      ]
    },
    {
      "cell_type": "code",
      "metadata": {
        "colab": {
          "base_uri": "https://localhost:8080/"
        },
        "id": "wwFvtR656fhS",
        "outputId": "945750b6-aa5e-4d1e-a4b4-b86033b150d8"
      },
      "source": [
        "print('Test Accuracy is: ', accuracy(pred, y_test))"
      ],
      "execution_count": 65,
      "outputs": [
        {
          "output_type": "stream",
          "name": "stdout",
          "text": [
            "Test Accuracy is:  tf.Tensor(0.8057, shape=(), dtype=float32)\n"
          ]
        }
      ]
    }
  ]
}